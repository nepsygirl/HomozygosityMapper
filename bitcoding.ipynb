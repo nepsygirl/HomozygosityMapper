{
 "cells": [
  {
   "cell_type": "code",
   "execution_count": 6,
   "metadata": {},
   "outputs": [
    {
     "name": "stdout",
     "output_type": "stream",
     "text": [
      "['00001000']\n"
     ]
    }
   ],
   "source": [
    "#00\t0  00000000\n",
    "#AA\t1  00000001\n",
    "#CC\t2  00000010\n",
    "#GG\t3  00000011\n",
    "#TT\t4  00000100\n",
    "#ii 5  00000101\n",
    "\n",
    "#AC\t6  00000110\n",
    "#AG\t7  00000111\n",
    "#AT\t8  00001000\n",
    "#Ai\t9  00001001\n",
    "#CG\t10 00001010\n",
    "#CT\t11 00001011\n",
    "#Ci\t12 00001100\n",
    "#GT\t13 00001101\n",
    "#Gi\t14 00001110\n",
    "#Ti\t15 00001111\n",
    "\n",
    "allele_data = {}  # declare empty dictionary\n",
    "allele_data['ref'] = 'A' # mockup vcf line\n",
    "allele_data['alt'] = 'T' # mockup vcf line\n",
    "\n",
    "#allele_data['ref'] = 'ACTGCGT' # mockup vcf line with indel Ai\n",
    "\n",
    "recoded_genotypes = [] # declare empty list\n",
    "if gt_data[\"GT\"] == \"0/0\"\":\n",
    "    if allele_data[\"ref\"] == \"A\":\n",
    "        recoded_genotypes.append('00000001')\n",
    "    elif allele_data[\"ref\"] == \"C\":\n",
    "        recoded_genotypes.append('00000010')\n",
    "    elif allele_data[\"ref\"] == \"G\":\n",
    "        recoded_genotypes.append('00000011')\n",
    "    elif allele_data[\"ref\"] == \"T\":\n",
    "        recoded_genotypes.append('00000100')\n",
    "        \n",
    "elif gt_data[\"GT\"] == \"1/1\"\":        \n",
    "    if allele_data[\"alt\"] == \"A\":\n",
    "        recoded_genotypes.append('00000001')\n",
    "    elif allele_data[\"alt\"] == \"C\":\n",
    "        recoded_genotypes.append('00000010')\n",
    "    elif allele_data[\"alt\"] == \"G\":\n",
    "        recoded_genotypes.append('00000011')\n",
    "    elif and allele_data[\"alt\"] == \"T\":\n",
    "        recoded_genotypes.append('00000100')\n",
    "        \n",
    "elif allele_data[\"ref\"]== \"N\" and allele_data[\"alt\"] == \"\": ##TODO: indels funktion\n",
    "    recoded_genotypes.append('00000101')\n",
    "\n",
    "        \n",
    "        \n",
    "elif gt_data[\"GT\"] == \"0/1\" or gt_data[\"GT\"] ==\"1/0\":\n",
    "    if allele_data[\"ref\"] == \"A\" and allele_data[\"alt\"] == \"C\":\n",
    "        recoded_genotypes.append('00000110')\n",
    "    elif allele_data[\"ref\"] == \"A\" and allele_data[\"alt\"] == \"G\":\n",
    "        recoded_genotypes.append('00000111')\n",
    "    elif allele_data[\"ref\"] == \"A\" and allele_data[\"alt\"] == \"T\":\n",
    "        recoded_genotypes.append('00001000')    \n",
    "    elif str(allele_data[\"ref\"]).startswith(\"A\") and allele_data[\"alt\"] == \"\": ##TODO: indels funktion\n",
    "        recoded_genotypes.append('00001001') \n",
    "        #TODO: indelin tabele auch  abschpeichern \n",
    "    elif allele_data[\"ref\"] == \"C\" and allele_data[\"alt\"] == \"G\":\n",
    "        recoded_genotypes.append('00001010')\n",
    "    elif allele_data[\"ref\"] == \"C\" and allele_data[\"alt\"] == \"T\":\n",
    "        recoded_genotypes.append('00001011')\n",
    "    elif str(allele_data[\"ref\"]).startswith(\"C\") and allele_data[\"alt\"] == \"\": ##TODO: indels funktion\n",
    "        recoded_genotypes.append('00001100')\n",
    "        #TODO: indelin tabele auch  abschpeichern\n",
    "    elif allele_data[\"ref\"] == \"G\" and allele_data[\"alt\"] == \"T\":\n",
    "        recoded_genotypes.append('00001101')\n",
    "    elif str(allele_data[\"ref\"]).startswith(\"G\") and allele_data[\"alt\"] == \"\": ##TODO: indels funktion\n",
    "        recoded_genotypes.append('00001110')\n",
    "        #TODO: indelin tabele auch  abschpeichern\n",
    "    elif str(allele_data[\"ref\"]).startswith(\"T\") and allele_data[\"alt\"] == \"\": ##TODO: indels funktion\n",
    "        recoded_genotypes.append('00001111')\n",
    "        #TODO: indelin tabele auch  abschpeichern\n",
    "print(recoded_genotypes)\n",
    "    \n",
    "#funktion um die Indels handeln "
   ]
  },
  {
   "cell_type": "code",
   "execution_count": null,
   "metadata": {},
   "outputs": [],
   "source": []
  },
  {
   "cell_type": "code",
   "execution_count": null,
   "metadata": {},
   "outputs": [],
   "source": []
  }
 ],
 "metadata": {
  "kernelspec": {
   "display_name": "Python 3",
   "language": "python",
   "name": "python3"
  },
  "language_info": {
   "codemirror_mode": {
    "name": "ipython",
    "version": 3
   },
   "file_extension": ".py",
   "mimetype": "text/x-python",
   "name": "python",
   "nbconvert_exporter": "python",
   "pygments_lexer": "ipython3",
   "version": "3.7.6"
  }
 },
 "nbformat": 4,
 "nbformat_minor": 4
}
