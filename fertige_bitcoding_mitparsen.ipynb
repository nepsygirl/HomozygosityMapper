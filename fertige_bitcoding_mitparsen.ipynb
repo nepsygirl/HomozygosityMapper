{
 "cells": [
  {
   "cell_type": "code",
   "execution_count": 3,
   "metadata": {},
   "outputs": [
    {
     "name": "stdout",
     "output_type": "stream",
     "text": [
      "Chrom: 1, Pos: 52066, Sample: NA12891, Genotype: CT, Recoded genotype: 00001011\n",
      "Chrom: 1, Pos: 52066, Sample: NA12892, Genotype: CT, Recoded genotype: 00001011\n",
      "Chrom: 1, Pos: 52066, Sample: NA12878, Genotype: CT, Recoded genotype: 00001011\n",
      "Chrom: 1, Pos: 695745, Sample: NA12891, Genotype: AG, Recoded genotype: 00000111\n",
      "Chrom: 1, Pos: 695745, Sample: NA12892, Genotype: AG, Recoded genotype: 00000111\n",
      "Chrom: 1, Pos: 695745, Sample: NA12878, Genotype: AG, Recoded genotype: 00000111\n",
      "Chrom: 1, Pos: 742429, Sample: NA12891, Genotype: AG, Recoded genotype: 00000111\n",
      "Chrom: 1, Pos: 742429, Sample: NA12892, Genotype: AG, Recoded genotype: 00000111\n",
      "Chrom: 1, Pos: 742429, Sample: NA12878, Genotype: AG, Recoded genotype: 00000111\n",
      "Chrom: 1, Pos: 742584, Sample: NA12891, Genotype: xx, Recoded genotype: 00000101\n",
      "Chrom: 1, Pos: 742584, Sample: NA12892, Genotype: xx, Recoded genotype: 00000101\n",
      "Chrom: 1, Pos: 742584, Sample: NA12878, Genotype: xx, Recoded genotype: 00000101\n"
     ]
    }
   ],
   "source": [
    "bits = {\n",
    "    '00': '00000000',\n",
    "    'AA': '00000001',\n",
    "    'CC': '00000010',\n",
    "    'GG': '00000011',\n",
    "    'TT': '00000100',\n",
    "    'xx': '00000101',\n",
    "\n",
    "    'AC': '00000110',\n",
    "    'AG': '00000111',\n",
    "    'AT': '00001000',\n",
    "    'Ax': '00001001',\n",
    "    'CG': '00001010',\n",
    "    'CT': '00001011',\n",
    "    'Cx': '00001100',\n",
    "    'GT': '00001101',\n",
    "    'Gx': '00001110',\n",
    "    'Tx': '00001111',\n",
    "}\n",
    "\n",
    "with open('short.vcf') as file:\n",
    "    line = file.readline()\n",
    "    while line:\n",
    "        if line.startswith('#CHROM'):\n",
    "            samples = line.split(sep='\\t')[9:] #skip all before the 9th\n",
    "        elif not line.startswith('#'):\n",
    "#             print(line.strip())\n",
    "            chrom, position, ref, alt, formatstring = list(line.split(sep='\\t')[i] for i in [0, 1, 3, 4, 8])\n",
    "            genotypes = line.split(sep='\\t')[9:] #skip all before the 9th\n",
    "\n",
    "            datas = formatstring.split(':')\n",
    "            alleles = [ref] + alt.split(',')\n",
    "            gt_data = {}\n",
    "            for idx, sample in enumerate(samples):\n",
    "                for genotype in genotypes:\n",
    "                    if genotype: # This means checking if the string genotype is not empty\n",
    "                        for idx, data in enumerate(datas):\n",
    "                            gt_data[data] = genotype.split(':')[idx]\n",
    "                gt_allele_1 = int(gt_data[\"GT\"][0]) # i.e. 2<--/1\n",
    "                gt_allele_2 = int(gt_data[\"GT\"][2]) # i.e. 2/-->1\n",
    "\n",
    "\n",
    "                real_alleles= [] #list with explicit allele to be sorted\n",
    "\n",
    "                real_alleles.append(alleles[gt_allele_1])\n",
    "                real_alleles.append(alleles[gt_allele_2])\n",
    "\n",
    "\n",
    "\n",
    "                for idx, real_allele in enumerate(real_alleles):\n",
    "                    if len(real_alleles[idx]) != 1: #gucken genotypen an , bezieht siech auf allele\n",
    "                        real_alleles[idx] = 'x'\n",
    "\n",
    "                real_alleles.sort()\n",
    "                allele_string = real_alleles[0] + real_alleles[1]\n",
    "                recoded_genotype = bits[allele_string]\n",
    "                print('Chrom: %s, Pos: %s, Sample: %s, Genotype: %s, Recoded genotype: %s' % (chrom, position, sample.rstrip(), allele_string, recoded_genotype))\n",
    "            \n",
    "            \n",
    "        line = file.readline()"
   ]
  },
  {
   "cell_type": "code",
   "execution_count": null,
   "metadata": {},
   "outputs": [],
   "source": []
  }
 ],
 "metadata": {
  "kernelspec": {
   "display_name": "Python 3",
   "language": "python",
   "name": "python3"
  },
  "language_info": {
   "codemirror_mode": {
    "name": "ipython",
    "version": 3
   },
   "file_extension": ".py",
   "mimetype": "text/x-python",
   "name": "python",
   "nbconvert_exporter": "python",
   "pygments_lexer": "ipython3",
   "version": "3.7.6"
  }
 },
 "nbformat": 4,
 "nbformat_minor": 4
}
