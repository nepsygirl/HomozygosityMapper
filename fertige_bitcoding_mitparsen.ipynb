{
 "cells": [
  {
   "cell_type": "code",
   "execution_count": 2,
   "metadata": {},
   "outputs": [
    {
     "name": "stdout",
     "output_type": "stream",
     "text": [
      "1\t52066\trs28402963\tT\tC\t.\tPASS\tAA=C;DP=84\tGT:GQ:DP\t1/0:44:23\t\t1/0:70:36\n",
      "1\t695745\t.\tG\tA\t.\tPASS\tAA=.;DP=124\tGT:GQ:DP\t1|0:100:34\t0|0:62:20\t1|0:100:56\n",
      "1\t742429\trs3094315\tG\tA,T\t.\tPASS\tAA=g;DP=132;HM2\tGT:GQ:DP\t1|1:100:38\t0|0:59:30\t0|1:100:44\n",
      "1\t742584\trs3131972\tAC\tACC,ACCC\t.\tPASS\tAA=a;DP=160;HM3\tGT:GQ:DP\t0|2:100:50\t1|1:100:33\t2|1:100:60\n"
     ]
    }
   ],
   "source": [
    "with open('short.vcf') as file:\n",
    "    line = file.readline()\n",
    "    while line:\n",
    "        if not line.startswith('#'):\n",
    "            print(line.strip())\n",
    "            chrom, position, ref, alt, formatstring, genotypes = list( line.split('\\t')[i] for i in [0, 1, 3, 4, 8, 9] )\n",
    "        line = file.readline()"
   ]
  },
  {
   "cell_type": "code",
   "execution_count": 7,
   "metadata": {},
   "outputs": [
    {
     "data": {
      "text/plain": [
       "[10, 11, 12]"
      ]
     },
     "execution_count": 7,
     "metadata": {},
     "output_type": "execute_result"
    }
   ],
   "source": [
    "a = [1,2,3,4,5,6,7,8,9,10,11,12]\n",
    "a[9:]"
   ]
  },
  {
   "cell_type": "code",
   "execution_count": 59,
   "metadata": {},
   "outputs": [
    {
     "name": "stdout",
     "output_type": "stream",
     "text": [
      "Chrom: 1, Pos: 52066, Sample: NA12891, Genotype: CT, Recoded genotype: 00001011\n",
      "Chrom: 1, Pos: 52066, Sample: NA12892, Genotype: CT, Recoded genotype: 00001011\n",
      "Chrom: 1, Pos: 52066, Sample: NA12878, Genotype: CT, Recoded genotype: 00001011\n",
      "Chrom: 1, Pos: 695745, Sample: NA12891, Genotype: AG, Recoded genotype: 00000111\n",
      "Chrom: 1, Pos: 695745, Sample: NA12892, Genotype: AG, Recoded genotype: 00000111\n",
      "Chrom: 1, Pos: 695745, Sample: NA12878, Genotype: AG, Recoded genotype: 00000111\n",
      "Chrom: 1, Pos: 742429, Sample: NA12891, Genotype: AG, Recoded genotype: 00000111\n",
      "Chrom: 1, Pos: 742429, Sample: NA12892, Genotype: AG, Recoded genotype: 00000111\n",
      "Chrom: 1, Pos: 742429, Sample: NA12878, Genotype: AG, Recoded genotype: 00000111\n",
      "Chrom: 1, Pos: 742584, Sample: NA12891, Genotype: xx, Recoded genotype: 00000101\n",
      "Chrom: 1, Pos: 742584, Sample: NA12892, Genotype: xx, Recoded genotype: 00000101\n",
      "Chrom: 1, Pos: 742584, Sample: NA12878, Genotype: xx, Recoded genotype: 00000101\n"
     ]
    }
   ],
   "source": [
    "#00\t0  00000000\n",
    "#AA\t1  00000001\n",
    "#CC\t2  00000010\n",
    "#GG\t3  00000011\n",
    "#TT\t4  00000100\n",
    "#xx 5  00000101\n",
    "\n",
    "#AC\t6  00000110\n",
    "#AG\t7  00000111\n",
    "#AT\t8  00001000\n",
    "#Ax\t9  00001001\n",
    "#CG\t10 00001010\n",
    "#CT\t11 00001011\n",
    "#Cx\t12 00001100\n",
    "#GT\t13 00001101\n",
    "#Gx\t14 00001110\n",
    "#Tx\t15 00001111\n",
    "\n",
    "#erstelle librrary\n",
    "\n",
    "\n",
    "bits = {\n",
    "    '00': '00000000',\n",
    "    'AA': '00000001',\n",
    "    'CC': '00000010',\n",
    "    'GG': '00000011',\n",
    "    'TT': '00000100',\n",
    "    'xx': '00000101',\n",
    "\n",
    "    'AC': '00000110',\n",
    "    'AG': '00000111',\n",
    "    'AT': '00001000',\n",
    "    'Ax': '00001001',\n",
    "    'CG': '00001010',\n",
    "    'CT': '00001011',\n",
    "    'Cx': '00001100',\n",
    "    'GT': '00001101',\n",
    "    'Gx': '00001110',\n",
    "    'Tx': '00001111',\n",
    "}\n",
    "\n",
    "gt_data = {}  # declare empty dictionary\n",
    "\n",
    "# allele_data is supposed to hold the columns REF and ALT from the VCF\n",
    "# allele_data[\"alt\"] is supposed to hold the list of alternative alleles. i.e. \"A,G,CCG,T etc\"\n",
    "allele_data = {}  # declare empty dictionary\n",
    "allele_data[\"alt\"] = []\n",
    "allele_data[\"ref\"] = [\"GAA\"] # mockup vcf line with ref \"A\"\n",
    "\n",
    "\n",
    "allele_data[\"alt\"].append('GC') # mockup vcf line with first alt allele\n",
    "allele_data[\"alt\"].append('GCGGGGGTTTTT') # mockup vcf line with second alt allele, man kann noch mehrere kombination von allele hier \n",
    "                                        #weiter  hinzufügen\n",
    "allele_data[\"alt\"].append('ACGT')\n",
    "allele_data[\"alt\"].append('G')\n",
    "allele_data[\"alt\"].append('GCG')  #usw\n",
    "allele_data[\"alt\"].append('C')\n",
    "\n",
    "\n",
    "\n",
    "# TODO Mockup VCF use all / for delimiter, but | is also possible\n",
    "gt_data[\"GT\"] = \"0/2\"  # mockup  vcf line \n",
    "#gt_data[\"GT\"] = \"4/5\"\n",
    "\n",
    "#mockup vcf line with indel Ci\n",
    "#allele_data['ref'] = 'GCTGCGT' #um zu testen ob Ai funktioniert\n",
    "                               \n",
    "#allele_data['alt'] = '' #alt is empty when it's a deletion\n",
    "\n",
    "\n",
    "recoded_genotypes = [] # declare empty list\n",
    "\n",
    "with open('short.vcf') as file:\n",
    "    line = file.readline()\n",
    "    while line:\n",
    "        if line.startswith('#CHROM'):\n",
    "            samples = line.split(sep='\\t')[9:] #skip all before the 9th\n",
    "        elif not line.startswith('#'):\n",
    "#             print(line.strip())\n",
    "            chrom, position, ref, alt, formatstring = list(line.split(sep='\\t')[i] for i in [0, 1, 3, 4, 8])\n",
    "            genotypes = line.split(sep='\\t')[9:] #skip all before the 9th\n",
    "\n",
    "            datas = formatstring.split(':')\n",
    "            alleles = [ref] + alt.split(',')\n",
    "            gt_data = {}\n",
    "            for idx, sample in enumerate(samples):\n",
    "                for genotype in genotypes:\n",
    "                    if genotype: # This means checking if the string genotype is not empty\n",
    "                        for idx, data in enumerate(datas):\n",
    "                            gt_data[data] = genotype.split(':')[idx]\n",
    "                gt_allele_1 = int(gt_data[\"GT\"][0]) # i.e. 2<--/1\n",
    "                gt_allele_2 = int(gt_data[\"GT\"][2]) # i.e. 2/-->1\n",
    "\n",
    "\n",
    "                real_alleles= [] #list with explicit allele to be sorted\n",
    "\n",
    "                real_alleles.append(alleles[gt_allele_1])\n",
    "                real_alleles.append(alleles[gt_allele_2])\n",
    "\n",
    "\n",
    "\n",
    "                for idx, real_allele in enumerate(real_alleles):\n",
    "                    if len(real_alleles[idx]) != 1: #gucken genotypen an , bezieht siech auf allele\n",
    "                        real_alleles[idx] = 'x'\n",
    "\n",
    "                real_alleles.sort()\n",
    "                allele_string = real_alleles[0] + real_alleles[1]\n",
    "                recoded_genotype = bits[allele_string]\n",
    "                print('Chrom: %s, Pos: %s, Sample: %s, Genotype: %s, Recoded genotype: %s' % (chrom, position, sample.rstrip(), allele_string, recoded_genotype))\n",
    "            \n",
    "            \n",
    "        line = file.readline()"
   ]
  },
  {
   "cell_type": "code",
   "execution_count": null,
   "metadata": {},
   "outputs": [],
   "source": []
  }
 ],
 "metadata": {
  "kernelspec": {
   "display_name": "Python 3",
   "language": "python",
   "name": "python3"
  },
  "language_info": {
   "codemirror_mode": {
    "name": "ipython",
    "version": 3
   },
   "file_extension": ".py",
   "mimetype": "text/x-python",
   "name": "python",
   "nbconvert_exporter": "python",
   "pygments_lexer": "ipython3",
   "version": "3.7.6"
  }
 },
 "nbformat": 4,
 "nbformat_minor": 4
}
